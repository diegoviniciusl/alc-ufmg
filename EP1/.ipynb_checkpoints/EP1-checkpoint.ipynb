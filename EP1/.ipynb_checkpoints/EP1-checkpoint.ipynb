{
 "cells": [
  {
   "cell_type": "markdown",
   "metadata": {},
   "source": [
    "# Exercício de Programação 1\n",
    "\n",
    "<font color=\"red\">**Prazo de submissão: 23:55 do dia 19/03/2020** </font>\n",
    "\n",
    "2020.1 Álgebra Linear Computacional - DCC - UFMG\n",
    "\n",
    "Erickson - Fabricio\n",
    "\n",
    "Instruções:\n",
    "* Antes de submeter suas soluções, certifique-se de que tudo roda como esperado. Primeiro, **reinicie o kernel** no menu, selecione Kernel$\\rightarrow$Restart e então execute **todas as células** (no menu, Cell$\\rightarrow$Run All)\n",
    "* Apenas o arquivo .ipynb deve ser submetido. Ele não deve ser compactado.\n",
    "* Não deixe de preencher seu nome e número de matrícula na célula a seguir"
   ]
  },
  {
   "cell_type": "markdown",
   "metadata": {},
   "source": [
    "Nome do aluno: Diego Vinicius de Oliveira Silva\n",
    "\n",
    "Matricula: 2019054471"
   ]
  },
  {
   "cell_type": "markdown",
   "metadata": {},
   "source": [
    "## Parte 1: Python básico"
   ]
  },
  {
   "cell_type": "code",
   "execution_count": 1,
   "metadata": {
    "ExecuteTime": {
     "end_time": "2019-08-14T18:43:54.939490Z",
     "start_time": "2019-08-14T18:43:54.936371Z"
    }
   },
   "outputs": [
    {
     "name": "stdout",
     "output_type": "stream",
     "text": [
      "1\n",
      "2\n",
      "3\n",
      "4\n",
      "5\n",
      "6\n",
      "7\n",
      "8\n",
      "9\n",
      "10\n",
      "[1, 2, 3, 4, 5, 6, 7, 8, 9, 10]\n"
     ]
    }
   ],
   "source": [
    "# Exercício 1 - Imprima na tela os números de 1 a 10 e armazene-os em uma lista.\n",
    "list = []\n",
    "for i in range(1, 11):\n",
    "    print(i)\n",
    "    list.append(i)\n",
    "print(list)"
   ]
  },
  {
   "cell_type": "code",
   "execution_count": 2,
   "metadata": {
    "ExecuteTime": {
     "end_time": "2019-08-14T18:45:00.942384Z",
     "start_time": "2019-08-14T18:45:00.940602Z"
    }
   },
   "outputs": [
    {
     "name": "stdout",
     "output_type": "stream",
     "text": [
      "Diego Vinicius\n"
     ]
    }
   ],
   "source": [
    "# Exercício 2 - Crie duas strings e concatene as duas em uma terceira string\n",
    "string1 = \"Diego \"\n",
    "string2 = \"Vinicius\"\n",
    "string3 = string1 + string2\n",
    "print(string3)"
   ]
  },
  {
   "cell_type": "code",
   "execution_count": 3,
   "metadata": {},
   "outputs": [
    {
     "name": "stdout",
     "output_type": "stream",
     "text": [
      "3\n"
     ]
    }
   ],
   "source": [
    "# Exercício 3 - Crie uma tupla com os seguintes elementos: 1, 2, 2, 3, 4, 4, 4, 5 e depois utilize a função count do \n",
    "# objeto tupla para verificar quantas vezes o número 4 aparece na tupla\n",
    "tuple = (1, 2, 2, 3, 4, 4, 4, 5)\n",
    "print(tuple.count(4))"
   ]
  },
  {
   "cell_type": "code",
   "execution_count": 4,
   "metadata": {
    "ExecuteTime": {
     "end_time": "2019-08-14T18:46:37.414570Z",
     "start_time": "2019-08-14T18:46:37.408896Z"
    }
   },
   "outputs": [
    {
     "name": "stdout",
     "output_type": "stream",
     "text": [
      "{'key_1': 'value_1', 'key_2': 'value_2', 'key_3': 'value_3'}\n"
     ]
    }
   ],
   "source": [
    "# Exercício 4 - Crie um dicionário com 3 chaves e 3 valores e imprima na tela\n",
    "dict = {\"key_1\":\"value_1\", \"key_2\":\"value_2\", \"key_3\":\"value_3\"}\n",
    "print(dict)"
   ]
  },
  {
   "cell_type": "code",
   "execution_count": 5,
   "metadata": {
    "ExecuteTime": {
     "end_time": "2019-08-14T18:47:48.172958Z",
     "start_time": "2019-08-14T18:47:48.171251Z"
    }
   },
   "outputs": [
    {
     "name": "stdout",
     "output_type": "stream",
     "text": [
      "{'key_1': 'value_1', 'key_2': 'value_2', 'key_3': 'value_3', 'key_4': 'value_4'}\n"
     ]
    }
   ],
   "source": [
    "# Exercício 5 - Adicione mais um elemento ao dicionário criado no exercício anterior e imprima na tela\n",
    "dict[\"key_4\"] = \"value_4\"\n",
    "print(dict)"
   ]
  },
  {
   "cell_type": "code",
   "execution_count": 6,
   "metadata": {},
   "outputs": [
    {
     "name": "stdout",
     "output_type": "stream",
     "text": [
      "{'value_1': 'key_1', 'value_2': 'key_2', 'value_3': 'key_3', 'value_4': 'key_4'}\n"
     ]
    }
   ],
   "source": [
    "# Exercício 6 - Crie um novo dicionário invertendo o anterior (isto é, usando os valores como chave e vice-versa)\n",
    "dict2 = {}\n",
    "for i in dict:\n",
    "    dict2[dict[i]] = i\n",
    "print(dict2)"
   ]
  },
  {
   "cell_type": "code",
   "execution_count": 7,
   "metadata": {},
   "outputs": [
    {
     "name": "stdout",
     "output_type": "stream",
     "text": [
      "TESTE\n"
     ]
    }
   ],
   "source": [
    "# Exercício 7 - Crie uma função que receba uma string como argumento e retorne a mesma string em letras maiúsculas.\n",
    "# Faça uma chamada à função, passando como parâmetro uma string\n",
    "def upperCase(string):\n",
    "    return string.upper()\n",
    "print(upperCase(\"testE\"))"
   ]
  },
  {
   "cell_type": "code",
   "execution_count": 8,
   "metadata": {},
   "outputs": [
    {
     "name": "stdout",
     "output_type": "stream",
     "text": [
      "[1, 2, 3, 4, 5, 6]\n"
     ]
    }
   ],
   "source": [
    "# Exercício 8 - Crie uma função que receba como parâmetro uma lista de 4 elementos, adicione 2 elementos a lista e \n",
    "# imprima a lista. Esta função não deve retornar nada.\n",
    "def modifyList(list):\n",
    "    list.append(5)\n",
    "    list.append(6)\n",
    "    print(list)\n",
    "modifyList([1, 2, 3, 4])"
   ]
  },
  {
   "cell_type": "code",
   "execution_count": 9,
   "metadata": {
    "ExecuteTime": {
     "end_time": "2019-08-14T19:01:46.177621Z",
     "start_time": "2019-08-14T19:01:46.174811Z"
    }
   },
   "outputs": [
    {
     "name": "stdout",
     "output_type": "stream",
     "text": [
      "Qual a temperatura? 35\n",
      "Vista roupas leves.\n"
     ]
    }
   ],
   "source": [
    "# Exercício 9 - Faça a correção dos erros no código abaixo e execute o programa. Dica: são 3 erros.\n",
    "temperatura = float(input('Qual a temperatura? '))\n",
    "if temperatura > 30:\n",
    "    print('Vista roupas leves.')\n",
    "else:\n",
    "    print('Busque seus casacos.')"
   ]
  },
  {
   "cell_type": "code",
   "execution_count": 10,
   "metadata": {},
   "outputs": [
    {
     "name": "stdout",
     "output_type": "stream",
     "text": [
      "The phrase contains 4 r's\n"
     ]
    }
   ],
   "source": [
    "# Exercício 10 - Crie uma função que conte quantas vezes a letra \"r\" aparece na frase abaixo. Use um placeholder (%) na \n",
    "# sua instrução de impressão\n",
    "frase = \"All models are wrong, but some are useful (George Box)\"\n",
    "def countR(string):\n",
    "    return string.count('r')\n",
    "print(\"The phrase contains %d r's\" % countR(frase))"
   ]
  },
  {
   "cell_type": "markdown",
   "metadata": {},
   "source": [
    "## Parte 2: numpy"
   ]
  },
  {
   "cell_type": "markdown",
   "metadata": {},
   "source": [
    "## Questão 1\n",
    "\n",
    "Crie as matrizes A, B e C abaixo e resolva as questões:\n",
    "1. [ ] Calcule $(((A^T B)+B)C^{-1})$\n",
    "2. [ ] Crie matrizes $\\tilde A_{2x2}, \\tilde B_{2x2}, \\tilde C_{2x2}$, tal que sejam compostas pelo 2 primeiros elementos de cada linha das duas primeiras linhas. E repita a equação do item anterior.\n",
    "\n",
    "**Dica** numpy.full, numpy.eye, numpy.ones e indexação de vetores.\n",
    "\n",
    "$$\n",
    "A = \\begin{bmatrix}\n",
    " 8 & 8 & 8\\\\\n",
    " 8 & 8 & 8\\\\\n",
    " 8 & 8 & 8\n",
    "\\end{bmatrix}_{3\\times 3}\n",
    "\\qquad\n",
    "B = \\begin{bmatrix}\n",
    " 1 & 1 & 1 & 1\\\\\n",
    " 1 & 1 & 1 & 1\\\\\n",
    " 1 & 1 & 1 & 1\n",
    "\\end{bmatrix}_{3\\times 4}\n",
    "\\qquad\n",
    "C = \\begin{bmatrix}\n",
    " 1 & 0 & 0 & 0 \\\\\n",
    " 0 & 1 & 0 & 0 \\\\\n",
    " 0 & 0 & 1 & 0 \\\\\n",
    " 0 & 0 & 0 & 1\n",
    "\\end{bmatrix}_{4\\times 4}\n",
    "$$"
   ]
  },
  {
   "cell_type": "code",
   "execution_count": 11,
   "metadata": {},
   "outputs": [
    {
     "name": "stdout",
     "output_type": "stream",
     "text": [
      "[[25. 25. 25. 25.]\n",
      " [25. 25. 25. 25.]\n",
      " [25. 25. 25. 25.]]\n",
      "[[17. 17.]\n",
      " [17. 17.]]\n"
     ]
    }
   ],
   "source": [
    "# Código para Exercício 1\n",
    "import numpy as np\n",
    "\n",
    "def calcResult(A, B, C):\n",
    "    return ((A.T@B) + B) @ (np.linalg.inv(C))\n",
    "#1.1\n",
    "A = np.full((3, 3), 8)\n",
    "B = np.full((3, 4), 1)\n",
    "C = np.eye(4)\n",
    "print(calcResult(A, B, C))\n",
    "\n",
    "#1.2\n",
    "An = A[:2,:2]\n",
    "Bn = B[:2,:2]\n",
    "Cn = C[:2,:2]\n",
    "print(calcResult(An, Bn, Cn))"
   ]
  },
  {
   "cell_type": "markdown",
   "metadata": {},
   "source": [
    "## Questão 2\n",
    "**2A.** Escreva uma função python que recebe $m$ como entrada e executa os seguintes passos:\n",
    "1. [ ] gera uma matriz aleatória $W_{m \\times 4}$ (função **numpy.random.randn**),\n",
    "2. [ ] divide cada uma das entradas por $\\sqrt{m}$ (salva resultado em $\\tilde W$),\n",
    "3. [ ] calcula $Z = \\tilde W^\\top \\times \\tilde W$,\n",
    "4. [ ] imprime $Z$,\n",
    "5. [ ] calcula a norma Frobenius da diferença entre $Z$ e a matriz identidade $I_{4 \\times 4}$."
   ]
  },
  {
   "cell_type": "code",
   "execution_count": 12,
   "metadata": {
    "ExecuteTime": {
     "end_time": "2020-03-10T19:15:39.272717Z",
     "start_time": "2020-03-10T19:15:39.270724Z"
    }
   },
   "outputs": [
    {
     "name": "stdout",
     "output_type": "stream",
     "text": [
      "[[ 2.4275543  -0.81073677  1.24260663 -0.85601911]\n",
      " [-0.81073677  0.92649717 -1.02448931  0.28129234]\n",
      " [ 1.24260663 -1.02448931  1.27301024 -0.39497226]\n",
      " [-0.85601911  0.28129234 -0.39497226  0.97203802]]\n"
     ]
    },
    {
     "data": {
      "text/plain": [
       "3.2490478882742413"
      ]
     },
     "execution_count": 12,
     "metadata": {},
     "output_type": "execute_result"
    }
   ],
   "source": [
    "# Código para Exercício 2\n",
    "import numpy as np\n",
    "import math\n",
    "\n",
    "def solveProblem(m):\n",
    "    W = np.random.randn(m, 4)\n",
    "    Wn = W / math.sqrt(m)\n",
    "    Z = Wn.T @ Wn\n",
    "    print(Z)\n",
    "    froNorm = np.linalg.norm(Z - np.eye(4), 'fro')\n",
    "    return froNorm\n",
    "solveProblem(5)"
   ]
  },
  {
   "cell_type": "markdown",
   "metadata": {},
   "source": [
    "**2B.** Qual a norma da diferença obtida para $m=100$? E para $m=10000$?"
   ]
  },
  {
   "cell_type": "code",
   "execution_count": 13,
   "metadata": {},
   "outputs": [
    {
     "name": "stdout",
     "output_type": "stream",
     "text": [
      "[[ 1.05319993 -0.01711896  0.07496063 -0.03505752]\n",
      " [-0.01711896  0.96827394  0.05235457  0.08765072]\n",
      " [ 0.07496063  0.05235457  0.87659656  0.02887726]\n",
      " [-0.03505752  0.08765072  0.02887726  0.86140286]]\n",
      "[[ 1.00055582e+00  9.18119372e-03 -1.43758073e-02 -5.04895433e-03]\n",
      " [ 9.18119372e-03  1.02834520e+00 -6.22189353e-03  3.67983242e-05]\n",
      " [-1.43758073e-02 -6.22189353e-03  1.00430090e+00 -1.54764706e-03]\n",
      " [-5.04895433e-03  3.67983242e-05 -1.54764706e-03  1.00493491e+00]]\n",
      "\n",
      "Para m=100 a diferença é 0.2739923558856153 , e para m=10000 é 0.03951869931304768\n"
     ]
    }
   ],
   "source": [
    "#Resposta:\n",
    "print(\"\\nPara m=100 a diferença é\", solveProblem(100), \", e para m=10000 é\", solveProblem(10000))"
   ]
  },
  {
   "cell_type": "markdown",
   "metadata": {},
   "source": [
    "**2C.** O que podemos dizer sobre a matriz $\\tilde W$?"
   ]
  },
  {
   "cell_type": "markdown",
   "metadata": {},
   "source": [
    "Resposta:Wn é a matriz normalizada de W"
   ]
  }
 ],
 "metadata": {
  "kernelspec": {
   "display_name": "Python 3",
   "language": "python",
   "name": "python3"
  },
  "language_info": {
   "codemirror_mode": {
    "name": "ipython",
    "version": 3
   },
   "file_extension": ".py",
   "mimetype": "text/x-python",
   "name": "python",
   "nbconvert_exporter": "python",
   "pygments_lexer": "ipython3",
   "version": "3.7.6"
  }
 },
 "nbformat": 4,
 "nbformat_minor": 2
}
